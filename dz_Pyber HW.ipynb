{
 "cells": [
  {
   "cell_type": "code",
   "execution_count": 224,
   "metadata": {},
   "outputs": [
    {
     "data": {
      "text/html": [
       "<div>\n",
       "<style scoped>\n",
       "    .dataframe tbody tr th:only-of-type {\n",
       "        vertical-align: middle;\n",
       "    }\n",
       "\n",
       "    .dataframe tbody tr th {\n",
       "        vertical-align: top;\n",
       "    }\n",
       "\n",
       "    .dataframe thead th {\n",
       "        text-align: right;\n",
       "    }\n",
       "</style>\n",
       "<table border=\"1\" class=\"dataframe\">\n",
       "  <thead>\n",
       "    <tr style=\"text-align: right;\">\n",
       "      <th></th>\n",
       "      <th>city</th>\n",
       "      <th>date</th>\n",
       "      <th>fare</th>\n",
       "      <th>ride_id</th>\n",
       "      <th>driver_count</th>\n",
       "      <th>type</th>\n",
       "    </tr>\n",
       "  </thead>\n",
       "  <tbody>\n",
       "    <tr>\n",
       "      <th>0</th>\n",
       "      <td>Richardfort</td>\n",
       "      <td>2018-02-24 08:40:38</td>\n",
       "      <td>13.93</td>\n",
       "      <td>5628545007794</td>\n",
       "      <td>38</td>\n",
       "      <td>Urban</td>\n",
       "    </tr>\n",
       "    <tr>\n",
       "      <th>1</th>\n",
       "      <td>Richardfort</td>\n",
       "      <td>2018-02-13 12:46:07</td>\n",
       "      <td>14.00</td>\n",
       "      <td>910050116494</td>\n",
       "      <td>38</td>\n",
       "      <td>Urban</td>\n",
       "    </tr>\n",
       "    <tr>\n",
       "      <th>2</th>\n",
       "      <td>Richardfort</td>\n",
       "      <td>2018-02-16 13:52:19</td>\n",
       "      <td>17.92</td>\n",
       "      <td>820639054416</td>\n",
       "      <td>38</td>\n",
       "      <td>Urban</td>\n",
       "    </tr>\n",
       "    <tr>\n",
       "      <th>3</th>\n",
       "      <td>Richardfort</td>\n",
       "      <td>2018-02-01 20:18:28</td>\n",
       "      <td>10.26</td>\n",
       "      <td>9554935945413</td>\n",
       "      <td>38</td>\n",
       "      <td>Urban</td>\n",
       "    </tr>\n",
       "    <tr>\n",
       "      <th>4</th>\n",
       "      <td>Richardfort</td>\n",
       "      <td>2018-04-17 02:26:37</td>\n",
       "      <td>23.00</td>\n",
       "      <td>720020655850</td>\n",
       "      <td>38</td>\n",
       "      <td>Urban</td>\n",
       "    </tr>\n",
       "  </tbody>\n",
       "</table>\n",
       "</div>"
      ],
      "text/plain": [
       "          city                 date   fare        ride_id  driver_count   type\n",
       "0  Richardfort  2018-02-24 08:40:38  13.93  5628545007794            38  Urban\n",
       "1  Richardfort  2018-02-13 12:46:07  14.00   910050116494            38  Urban\n",
       "2  Richardfort  2018-02-16 13:52:19  17.92   820639054416            38  Urban\n",
       "3  Richardfort  2018-02-01 20:18:28  10.26  9554935945413            38  Urban\n",
       "4  Richardfort  2018-04-17 02:26:37  23.00   720020655850            38  Urban"
      ]
     },
     "execution_count": 224,
     "metadata": {},
     "output_type": "execute_result"
    }
   ],
   "source": [
    "%matplotlib inline\n",
    "# Dependencies and Setup\n",
    "import matplotlib.pyplot as plt\n",
    "import pandas as pd\n",
    "import numpy as np\n",
    "\n",
    "# File to Load (Remember to change these)\n",
    "city_data_to_load = \"data/city_data.csv\"\n",
    "ride_data_to_load = \"data/ride_data.csv\"\n",
    "\n",
    "# Read the City and Ride Data\n",
    "city_data = pd.read_csv(city_data_to_load)\n",
    "ride_data = pd.read_csv(ride_data_to_load)\n",
    "\n",
    "# Combine the data into a single dataset\n",
    "combined_pyber_df = pd.merge(city_data, ride_data, how=\"outer\", on=\"city\")\n",
    "\n",
    "# Display the data table for preview with the columns rearranged\n",
    "combined_pyber_df = combined_pyber_df[['city', 'date', 'fare', 'ride_id', 'driver_count', 'type']]\n",
    "combined_pyber_df.head()"
   ]
  },
  {
   "cell_type": "markdown",
   "metadata": {},
   "source": [
    "## Bubble Plot of Ride Sharing Data"
   ]
  },
  {
   "cell_type": "code",
   "execution_count": 262,
   "metadata": {},
   "outputs": [
    {
     "data": {
      "text/plain": [
       "529.49"
      ]
     },
     "execution_count": 262,
     "metadata": {},
     "output_type": "execute_result"
    }
   ],
   "source": [
    "# Various Calculations\n",
    "#driver_count = number of drivers per city \n",
    "\n",
    "# Total Number of Cities = 120\n",
    "Total_Cities = len(combined_pyber_df[\"city\"].unique())\n",
    "Total_Cities\n",
    "\n",
    "# Total Number of Rides(Records) = 2375\n",
    "Total_Rides = len(combined_pyber_df[\"ride_id\"].unique())\n",
    "Total_Rides\n",
    "\n",
    "# Total Number of Drivers = 68709 with duplicates, 2973 without duplicates \n",
    "Total_Drivers = city_data[\"driver_count\"].sum()\n",
    "Total_Drivers\n",
    "\n",
    "# Total Fares in Dollars = $63,538.64\n",
    "Total_Fares = combined_pyber_df[\"fare\"].sum()\n",
    "Total_Fares\n",
    "\n",
    "#Calculate Average Fare ($) per City\n",
    "AvgFare_City = round(Total_Fares/Total_Cities, 2)\n",
    "AvgFare_City\n",
    "\n",
    "#Calculate Average Fare ($) per Ride\n",
    "#AvgFare_Ride = round(Total_Fares/Total_Rides, 2)\n",
    "#AvgFare_Ride"
   ]
  },
  {
   "cell_type": "code",
   "execution_count": 226,
   "metadata": {},
   "outputs": [],
   "source": [
    "#Obtain the x and y coordinates for each of the three city types"
   ]
  },
  {
   "cell_type": "code",
   "execution_count": 227,
   "metadata": {},
   "outputs": [],
   "source": []
  },
  {
   "cell_type": "code",
   "execution_count": 276,
   "metadata": {},
   "outputs": [],
   "source": [
    "#Calculate Total Number of Rides per City\n",
    "Rides_City = combined_pyber_df[\"city\"].value_counts()\n",
    "#Ride_City\n",
    "##combined_pyber_df.plot.scatter(x='Ride_City', y='fare');\n",
    "##combined_pyber_df.plot.scatter(x='Ride_City', y='fare', s=combined_pyber_df.['type']*200);\n",
    "#y=combined_pyber_df[\"fare\"]\n",
    "#Rides_City.plot={kind='bar'}\n",
    "#, facecolor=\"red\"}\n",
    "#Rides_City.plot={kind=\"scatter\"}\n",
    "#plt.bar(Rides_City, facecolor=\"red\")\n",
    "#plt.scatter(Rides_City, y)\n",
    "#plt.xlabel('This is the X axis')\n",
    "#plt.ylabel('This is the Y axis')\n",
    "#plt.title('This is the Title')\n",
    "#plt.show()"
   ]
  },
  {
   "cell_type": "code",
   "execution_count": 273,
   "metadata": {},
   "outputs": [],
   "source": [
    "#Display Total Number of Drivers per City\n",
    "#city_data.head()"
   ]
  },
  {
   "cell_type": "code",
   "execution_count": 230,
   "metadata": {},
   "outputs": [],
   "source": [
    "# Build the scatter plots for each city types\n",
    "\n",
    "# Incorporate the other graph properties\n",
    "\n",
    "# Create a legend\n",
    "\n",
    "# Incorporate a text label regarding circle size\n",
    "\n",
    "# Save Figure\n"
   ]
  },
  {
   "cell_type": "code",
   "execution_count": 231,
   "metadata": {},
   "outputs": [],
   "source": [
    "# Show plot\n",
    "plt.show()"
   ]
  },
  {
   "cell_type": "markdown",
   "metadata": {},
   "source": [
    "## Total Fares by City Type"
   ]
  },
  {
   "cell_type": "code",
   "execution_count": 242,
   "metadata": {},
   "outputs": [
    {
     "data": {
      "text/plain": [
       "type\n",
       "Rural        6.8\n",
       "Suburban    30.5\n",
       "Urban       62.7\n",
       "Name: fare, dtype: float64"
      ]
     },
     "execution_count": 242,
     "metadata": {},
     "output_type": "execute_result"
    }
   ],
   "source": [
    "#Calculate Total Fares per City Type\n",
    "#Total_Fares = combined_pyber_df[\"fare\"].sum() = 63538.64\n",
    "Fares_CityType = combined_pyber_df.groupby(['type']).fare.sum()\n",
    "Fares_CityType\n",
    "Fare_Percents = round((Fares_CityType/Total_Fares)*100, 1)\n",
    "Fare_Percents"
   ]
  },
  {
   "cell_type": "code",
   "execution_count": 233,
   "metadata": {},
   "outputs": [
    {
     "data": {
      "image/png": "[encoded data removed]",
      "text/plain": [
       "<Figure size 432x288 with 1 Axes>"
      ]
     },
     "metadata": {},
     "output_type": "display_data"
    }
   ],
   "source": [
    "# Build Pie Chart\n",
    "#Fares_Percents.plot{kind=\"pie\"}\n",
    "Labels=[\"Rural\", \"Suburban\", \"Urban\"]\n",
    "Explode=[0, 0, 0.10]\n",
    "Colors=[\"gold\", \"skyblue\", \"lightcoral\"]\n",
    "plt.pie(Fare_Percents, labels=Labels, autopct=\"%.1f%%\", shadow=True, explode=Explode, colors=Colors, startangle=140)\n",
    "plt.title(\"% of Total Fares by City Type\")\n",
    "plt.show()\n",
    "\n",
    "# Save Figure"
   ]
  },
  {
   "cell_type": "markdown",
   "metadata": {},
   "source": [
    "## Total Rides by City Type"
   ]
  },
  {
   "cell_type": "code",
   "execution_count": 240,
   "metadata": {},
   "outputs": [
    {
     "data": {
      "text/plain": [
       "Urban       68.4\n",
       "Suburban    26.3\n",
       "Rural        5.3\n",
       "Name: type, dtype: float64"
      ]
     },
     "execution_count": 240,
     "metadata": {},
     "output_type": "execute_result"
    }
   ],
   "source": [
    "# Calculate Ride Percents\n",
    "\n",
    "#Calculate Total Number of Rides per City Type\n",
    "Rides_CityType = combined_pyber_df[\"type\"].value_counts()\n",
    "Rides_CityType\n",
    "Ride_Percents = round((Rides_CityType/Total_Rides)*100, 1)\n",
    "Ride_Percents"
   ]
  },
  {
   "cell_type": "code",
   "execution_count": 235,
   "metadata": {},
   "outputs": [
    {
     "data": {
      "image/png": "[encoded data removed]",
      "text/plain": [
       "<Figure size 432x288 with 1 Axes>"
      ]
     },
     "metadata": {},
     "output_type": "display_data"
    }
   ],
   "source": [
    "# Build Pie Chart\n",
    "#Ride_Percents.plot{kind=\"pie\"}\n",
    "Labels=[\"Urban\", \"Suburban\", \"Rural\"]\n",
    "Explode=[0.10, 0, 0]\n",
    "Colors=[\"lightcoral\", \"skyblue\", \"gold\"]\n",
    "plt.pie(Ride_Percents, labels=Labels, autopct=\"%.1f%%\", shadow=True, explode=Explode, colors=Colors, startangle=-95)\n",
    "plt.title(\"% of Total Rides by City Type\")\n",
    "plt.show()\n",
    "\n",
    "# Save Figure"
   ]
  },
  {
   "cell_type": "markdown",
   "metadata": {},
   "source": [
    "## Total Drivers by City Type"
   ]
  },
  {
   "cell_type": "code",
   "execution_count": 238,
   "metadata": {},
   "outputs": [
    {
     "data": {
      "text/plain": [
       "type\n",
       "Rural        2.6\n",
       "Suburban    16.5\n",
       "Urban       80.9\n",
       "Name: driver_count, dtype: float64"
      ]
     },
     "execution_count": 238,
     "metadata": {},
     "output_type": "execute_result"
    }
   ],
   "source": [
    "# Calculate Driver Percents\n",
    "\n",
    "#Calculate Total Number of Drivers per City Type = 2973\n",
    "Drivers_CityType = city_data.groupby(['type']).driver_count.sum()\n",
    "Drivers_CityType\n",
    "Driver_Percents = round((Drivers_CityType/Total_Drivers)*100, 1)\n",
    "Driver_Percents"
   ]
  },
  {
   "cell_type": "code",
   "execution_count": 237,
   "metadata": {},
   "outputs": [
    {
     "data": {
      "image/png": "[encoded data removed]",
      "text/plain": [
       "<Figure size 432x288 with 1 Axes>"
      ]
     },
     "metadata": {},
     "output_type": "display_data"
    }
   ],
   "source": [
    "# Build Pie Chart\n",
    "#Driver_Percents.plot{kind=\"pie\"}\n",
    "Labels=[\"Rural\", \"Suburban\", \"Urban\"]\n",
    "Explode=[0, 0, 0.10]\n",
    "Colors=[\"gold\", \"skyblue\", \"lightcoral\"]\n",
    "plt.pie(Driver_Percents, labels=Labels, autopct=\"%.1f%%\", shadow=True, explode=Explode, colors=Colors, startangle=160)\n",
    "plt.title(\"% of Total Drivers by City Type\")\n",
    "plt.show()\n",
    "\n",
    "# Save Figure"
   ]
  }
 ],
 "metadata": {
  "anaconda-cloud": {},
  "kernelspec": {
   "display_name": "Python 3",
   "language": "python",
   "name": "python3"
  },
  "language_info": {
   "codemirror_mode": {
    "name": "ipython",
    "version": 3
   },
   "file_extension": ".py",
   "mimetype": "text/x-python",
   "name": "python",
   "nbconvert_exporter": "python",
   "pygments_lexer": "ipython3",
   "version": "3.7.0"
  }
 },
 "nbformat": 4,
 "nbformat_minor": 2
}
