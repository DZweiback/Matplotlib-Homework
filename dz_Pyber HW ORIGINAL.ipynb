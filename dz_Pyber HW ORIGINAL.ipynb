{
 "cells": [
  {
   "cell_type": "code",
   "execution_count": 181,
   "metadata": {},
   "outputs": [
    {
     "data": {
      "text/html": [
       "<div>\n",
       "<style scoped>\n",
       "    .dataframe tbody tr th:only-of-type {\n",
       "        vertical-align: middle;\n",
       "    }\n",
       "\n",
       "    .dataframe tbody tr th {\n",
       "        vertical-align: top;\n",
       "    }\n",
       "\n",
       "    .dataframe thead th {\n",
       "        text-align: right;\n",
       "    }\n",
       "</style>\n",
       "<table border=\"1\" class=\"dataframe\">\n",
       "  <thead>\n",
       "    <tr style=\"text-align: right;\">\n",
       "      <th></th>\n",
       "      <th>city</th>\n",
       "      <th>date</th>\n",
       "      <th>fare</th>\n",
       "      <th>ride_id</th>\n",
       "      <th>driver_count</th>\n",
       "      <th>type</th>\n",
       "    </tr>\n",
       "  </thead>\n",
       "  <tbody>\n",
       "    <tr>\n",
       "      <th>0</th>\n",
       "      <td>Richardfort</td>\n",
       "      <td>2018-02-24 08:40:38</td>\n",
       "      <td>13.93</td>\n",
       "      <td>5628545007794</td>\n",
       "      <td>38</td>\n",
       "      <td>Urban</td>\n",
       "    </tr>\n",
       "    <tr>\n",
       "      <th>1</th>\n",
       "      <td>Richardfort</td>\n",
       "      <td>2018-02-13 12:46:07</td>\n",
       "      <td>14.00</td>\n",
       "      <td>910050116494</td>\n",
       "      <td>38</td>\n",
       "      <td>Urban</td>\n",
       "    </tr>\n",
       "    <tr>\n",
       "      <th>2</th>\n",
       "      <td>Richardfort</td>\n",
       "      <td>2018-02-16 13:52:19</td>\n",
       "      <td>17.92</td>\n",
       "      <td>820639054416</td>\n",
       "      <td>38</td>\n",
       "      <td>Urban</td>\n",
       "    </tr>\n",
       "    <tr>\n",
       "      <th>3</th>\n",
       "      <td>Richardfort</td>\n",
       "      <td>2018-02-01 20:18:28</td>\n",
       "      <td>10.26</td>\n",
       "      <td>9554935945413</td>\n",
       "      <td>38</td>\n",
       "      <td>Urban</td>\n",
       "    </tr>\n",
       "    <tr>\n",
       "      <th>4</th>\n",
       "      <td>Richardfort</td>\n",
       "      <td>2018-04-17 02:26:37</td>\n",
       "      <td>23.00</td>\n",
       "      <td>720020655850</td>\n",
       "      <td>38</td>\n",
       "      <td>Urban</td>\n",
       "    </tr>\n",
       "  </tbody>\n",
       "</table>\n",
       "</div>"
      ],
      "text/plain": [
       "          city                 date   fare        ride_id  driver_count   type\n",
       "0  Richardfort  2018-02-24 08:40:38  13.93  5628545007794            38  Urban\n",
       "1  Richardfort  2018-02-13 12:46:07  14.00   910050116494            38  Urban\n",
       "2  Richardfort  2018-02-16 13:52:19  17.92   820639054416            38  Urban\n",
       "3  Richardfort  2018-02-01 20:18:28  10.26  9554935945413            38  Urban\n",
       "4  Richardfort  2018-04-17 02:26:37  23.00   720020655850            38  Urban"
      ]
     },
     "execution_count": 181,
     "metadata": {},
     "output_type": "execute_result"
    }
   ],
   "source": [
    "%matplotlib inline\n",
    "# Dependencies and Setup\n",
    "import matplotlib.pyplot as plt\n",
    "import pandas as pd\n",
    "import numpy as np\n",
    "\n",
    "# File to Load (Remember to change these)\n",
    "city_data_to_load = \"data/city_data.csv\"\n",
    "ride_data_to_load = \"data/ride_data.csv\"\n",
    "\n",
    "# Read the City and Ride Data\n",
    "city_data = pd.read_csv(city_data_to_load)\n",
    "ride_data = pd.read_csv(ride_data_to_load)\n",
    "\n",
    "# Combine the data into a single dataset\n",
    "combined_pyber_df = pd.merge(city_data, ride_data, how=\"outer\", on=\"city\")\n",
    "\n",
    "# Display the data table for preview with the columns rearranged\n",
    "combined_pyber_df = combined_pyber_df[['city', 'date', 'fare', 'ride_id', 'driver_count', 'type']]\n",
    "combined_pyber_df.head()"
   ]
  },
  {
   "cell_type": "markdown",
   "metadata": {},
   "source": [
    "## Bubble Plot of Ride Sharing Data"
   ]
  },
  {
   "cell_type": "markdown",
   "metadata": {},
   "source": [
    "# Various Calculations"
   ]
  },
  {
   "cell_type": "code",
   "execution_count": 182,
   "metadata": {},
   "outputs": [],
   "source": [
    "# Group by City Name\n",
    "Cities = combined_pyber_df.groupby('city')\n",
    "#Cities.head()"
   ]
  },
  {
   "cell_type": "code",
   "execution_count": 183,
   "metadata": {},
   "outputs": [
    {
     "data": {
      "text/plain": [
       "120"
      ]
     },
     "execution_count": 183,
     "metadata": {},
     "output_type": "execute_result"
    }
   ],
   "source": [
    "# Total Number of Cities = 120\n",
    "Total_Cities = len(combined_pyber_df[\"city\"].unique())\n",
    "Total_Cities"
   ]
  },
  {
   "cell_type": "code",
   "execution_count": 184,
   "metadata": {},
   "outputs": [
    {
     "data": {
      "text/plain": [
       "2375"
      ]
     },
     "execution_count": 184,
     "metadata": {},
     "output_type": "execute_result"
    }
   ],
   "source": [
    "# Total Number of Rides(Records) Overall = 2375 - needed in pie calculations\n",
    "Total_Rides = len(combined_pyber_df[\"ride_id\"].unique())\n",
    "Total_Rides"
   ]
  },
  {
   "cell_type": "code",
   "execution_count": 185,
   "metadata": {},
   "outputs": [
    {
     "data": {
      "text/plain": [
       "2973"
      ]
     },
     "execution_count": 185,
     "metadata": {},
     "output_type": "execute_result"
    }
   ],
   "source": [
    "# Total Number of Drivers Overall = 68709 w/duplicates, 2973 w/o duplicates using city_data file - needed in pie calculations\n",
    "Total_Drivers = city_data[\"driver_count\"].sum()\n",
    "Total_Drivers"
   ]
  },
  {
   "cell_type": "code",
   "execution_count": 186,
   "metadata": {},
   "outputs": [
    {
     "data": {
      "text/plain": [
       "63538.64"
      ]
     },
     "execution_count": 186,
     "metadata": {},
     "output_type": "execute_result"
    }
   ],
   "source": [
    "# Total Fares in Dollars Overall = $63,538.64 - needed in pie calculations\n",
    "Total_Fares = combined_pyber_df[\"fare\"].sum()\n",
    "Total_Fares"
   ]
  },
  {
   "cell_type": "code",
   "execution_count": 187,
   "metadata": {},
   "outputs": [
    {
     "data": {
      "text/plain": [
       "529.49"
      ]
     },
     "execution_count": 187,
     "metadata": {},
     "output_type": "execute_result"
    }
   ],
   "source": [
    "#Calculate TOTAL Average Fare ($) Overall - not needed in calculations\n",
    "Tot_AvgFare_City = round(Total_Fares/Total_Cities, 2)\n",
    "Tot_AvgFare_City"
   ]
  },
  {
   "cell_type": "code",
   "execution_count": 188,
   "metadata": {},
   "outputs": [
    {
     "data": {
      "text/plain": [
       "26.75"
      ]
     },
     "execution_count": 188,
     "metadata": {},
     "output_type": "execute_result"
    }
   ],
   "source": [
    "#Calculate Total Average Fare ($) per Ride Overall - not needed in calculations\n",
    "Tot_AvgFare_Ride = round(Total_Fares/Total_Rides, 2)\n",
    "Tot_AvgFare_Ride"
   ]
  },
  {
   "cell_type": "code",
   "execution_count": 189,
   "metadata": {},
   "outputs": [],
   "source": [
    "#Calculate Total Average Fare per City Type - not needed in calculations\n",
    "#Tot_AvgFare_CityType = Fares_CityType/Rides_CityType\n",
    "#Tot_AvgFare_CityType"
   ]
  },
  {
   "cell_type": "markdown",
   "metadata": {},
   "source": [
    "# Obtain the x and y coordinates for each of the three city types"
   ]
  },
  {
   "cell_type": "code",
   "execution_count": 190,
   "metadata": {},
   "outputs": [],
   "source": [
    "#Calculate the \"x\" values, x=Number of Rides per City (Rides_City)\n",
    "#The size of each point on our plot is determined by their x value\n",
    "\n",
    "#Option 1 = ordered by High to Low Count\n",
    "#Rides_City = combined_pyber_df[\"city\"].value_counts()\n",
    "#Rides_City\n",
    "\n",
    "#Option 2 = ordered by City Name\n",
    "Rides_City = Cities['ride_id'].count()\n",
    "\n",
    "#x = Rides_City\n",
    "#print(x)"
   ]
  },
  {
   "cell_type": "code",
   "execution_count": 191,
   "metadata": {},
   "outputs": [],
   "source": [
    "#Calculate the \"y\" values, y=Average Fare per City (AvgFare_City)\n",
    "\n",
    "#Option #1 using x values\n",
    "#Fares_City = combined_pyber_df.groupby(['city']).fare.sum() \n",
    "#print(Fares_City)\n",
    "#AvgFare_City = round(Fares_City/x, 2)\n",
    "#print(AvgFare_City)\n",
    "\n",
    "#Option #2 wihout x values\n",
    "#Calculate Average Fare ($) per each City\n",
    "AvgFare_City = round(Cities.mean()['fare'], 2)\n",
    "\n",
    "#y = AvgFare_City\n",
    "#print(y)"
   ]
  },
  {
   "cell_type": "code",
   "execution_count": 192,
   "metadata": {},
   "outputs": [],
   "source": [
    "#Calculate the values for Bubbles, Bubble data \"s\" = Number of Drivers by City Type\n",
    "\n",
    "#First, Calculate the Number of Drivers per City\n",
    "\n",
    "#Option1 = ordered by High to Low Count using city_data w/o duplicates\n",
    "#Drivers_City = city_data.groupby(['city']).driver_count.sum()\n",
    "#print(Drivers_City)\n",
    "\n",
    "#Option #2 \n",
    "Drivers_City = Cities.mean()['driver_count']\n",
    "#Drivers_City"
   ]
  },
  {
   "cell_type": "code",
   "execution_count": 193,
   "metadata": {},
   "outputs": [],
   "source": [
    "#Second, Set index to City Type and Order by Type - using city_data file\n",
    "CityType = city_data.set_index('city')['type']\n",
    "#CityType"
   ]
  },
  {
   "cell_type": "code",
   "execution_count": 194,
   "metadata": {},
   "outputs": [
    {
     "data": {
      "text/html": [
       "<div>\n",
       "<style scoped>\n",
       "    .dataframe tbody tr th:only-of-type {\n",
       "        vertical-align: middle;\n",
       "    }\n",
       "\n",
       "    .dataframe tbody tr th {\n",
       "        vertical-align: top;\n",
       "    }\n",
       "\n",
       "    .dataframe thead th {\n",
       "        text-align: right;\n",
       "    }\n",
       "</style>\n",
       "<table border=\"1\" class=\"dataframe\">\n",
       "  <thead>\n",
       "    <tr style=\"text-align: right;\">\n",
       "      <th></th>\n",
       "      <th>x</th>\n",
       "      <th>y</th>\n",
       "      <th>drivers</th>\n",
       "      <th>type</th>\n",
       "    </tr>\n",
       "  </thead>\n",
       "  <tbody>\n",
       "    <tr>\n",
       "      <th>Amandaburgh</th>\n",
       "      <td>18</td>\n",
       "      <td>24.64</td>\n",
       "      <td>12.0</td>\n",
       "      <td>Urban</td>\n",
       "    </tr>\n",
       "    <tr>\n",
       "      <th>Barajasview</th>\n",
       "      <td>22</td>\n",
       "      <td>25.33</td>\n",
       "      <td>26.0</td>\n",
       "      <td>Urban</td>\n",
       "    </tr>\n",
       "    <tr>\n",
       "      <th>Barronchester</th>\n",
       "      <td>16</td>\n",
       "      <td>36.42</td>\n",
       "      <td>11.0</td>\n",
       "      <td>Suburban</td>\n",
       "    </tr>\n",
       "    <tr>\n",
       "      <th>Bethanyland</th>\n",
       "      <td>18</td>\n",
       "      <td>32.96</td>\n",
       "      <td>22.0</td>\n",
       "      <td>Suburban</td>\n",
       "    </tr>\n",
       "    <tr>\n",
       "      <th>Bradshawfurt</th>\n",
       "      <td>10</td>\n",
       "      <td>40.06</td>\n",
       "      <td>7.0</td>\n",
       "      <td>Rural</td>\n",
       "    </tr>\n",
       "  </tbody>\n",
       "</table>\n",
       "</div>"
      ],
      "text/plain": [
       "                x      y  drivers      type\n",
       "Amandaburgh    18  24.64     12.0     Urban\n",
       "Barajasview    22  25.33     26.0     Urban\n",
       "Barronchester  16  36.42     11.0  Suburban\n",
       "Bethanyland    18  32.96     22.0  Suburban\n",
       "Bradshawfurt   10  40.06      7.0     Rural"
      ]
     },
     "execution_count": 194,
     "metadata": {},
     "output_type": "execute_result"
    }
   ],
   "source": [
    "#Third, Create New df for all values (x=Rides_City, y=AvgFare_City, Drivers_City, CityType)\n",
    "New_df = pd.DataFrame({\"x\":Rides_City, \"y\":AvgFare_City, \"drivers\":Drivers_City, \"type\":CityType})\n",
    "New_df.sort_values('drivers', ascending = False)\n",
    "New_df.head()"
   ]
  },
  {
   "cell_type": "code",
   "execution_count": 195,
   "metadata": {},
   "outputs": [],
   "source": [
    "#Fourth, Create Separate df for each City Type by Type\n",
    "rural = New_df[New_df['type'] == 'Rural']\n",
    "suburban = New_df[New_df['type'] == 'Suburban']\n",
    "urban = New_df[New_df['type'] == 'Urban']\n",
    "#Add Colors, Labels, and Attributes using a Dictionary)\n",
    "Colors={'Urban':[\"lightcoral\"], 'Suburban':[\"skyblue\"], 'Rural':[\"gold\"]}\n",
    "Labels={'Urban':\"Urban\", 'Suburban':\"Suburban\", 'Rural':\"Rural\"}\n",
    "EdgeColor={'Black':[\"black\"]}"
   ]
  },
  {
   "cell_type": "code",
   "execution_count": 196,
   "metadata": {},
   "outputs": [
    {
     "data": {
      "image/png": "[encoded data removed]",
      "text/plain": [
       "<Figure size 432x288 with 1 Axes>"
      ]
     },
     "metadata": {
      "needs_background": "light"
     },
     "output_type": "display_data"
    }
   ],
   "source": [
    "# Build the scatter plots for each city types, Set \"s\" values\n",
    "plt.scatter(rural['x'], rural['y'], s=rural['drivers']*10, color=Colors['Rural'], label=Labels['Rural'], \n",
    "            edgecolor=EdgeColor['Black'])\n",
    "plt.scatter(suburban['x'], suburban['y'], s=suburban['drivers']*10, color=Colors['Suburban'], label=Labels['Suburban'],\n",
    "            edgecolor=EdgeColor['Black'])\n",
    "plt.scatter(urban['x'], urban['y'], s=urban['drivers']*10, color=Colors['Urban'], label=Labels['Urban'],\n",
    "            edgecolor=EdgeColor['Black'])\n",
    "\n",
    "# Add Labels and grid\n",
    "plt.xlabel('Total Number of Rides (Per City)')\n",
    "plt.ylabel('Average Fare ($)')\n",
    "plt.title('Pyber Ride Sharing Data 2016')\n",
    "plt.grid()\n",
    "\n",
    "# Create a legend, add attributes, add grid\n",
    "lgnd = plt.legend(fontsize=\"small\", mode=\"Expanded\", \n",
    "                  numpoints=1, scatterpoints=1, \n",
    "                  loc=\"best\", title=\"City Types\", \n",
    "                  labelspacing=0.5)\n",
    "lgnd.legendHandles[0]._sizes = [30]\n",
    "lgnd.legendHandles[1]._sizes = [30]\n",
    "lgnd.legendHandles[2]._sizes = [30]\n",
    "\n",
    "# Incorporate a text label regarding circle size\n",
    "plt.text(43, 37, \"Note: Circle size correlates with driver count per city.\")\n",
    "\n",
    "# Save Figure\n",
    "plt.savefig(\"../Images/PyberBubbleChart.png\")\n",
    "\n",
    "#Show Plot\n",
    "plt.show()"
   ]
  },
  {
   "cell_type": "markdown",
   "metadata": {},
   "source": [
    "## Total Fares by City Type"
   ]
  },
  {
   "cell_type": "code",
   "execution_count": 197,
   "metadata": {},
   "outputs": [
    {
     "data": {
      "text/plain": [
       "type\n",
       "Rural        6.8\n",
       "Suburban    30.5\n",
       "Urban       62.7\n",
       "Name: fare, dtype: float64"
      ]
     },
     "execution_count": 197,
     "metadata": {},
     "output_type": "execute_result"
    }
   ],
   "source": [
    "#Calculate Total Fares per City Type\n",
    "#Total_Fares = combined_pyber_df[\"fare\"].sum() = 63538.64\n",
    "Fares_CityType = combined_pyber_df.groupby(['type']).fare.sum()\n",
    "Fares_CityType\n",
    "Fare_Percents = round((Fares_CityType/Total_Fares)*100, 1)\n",
    "Fare_Percents"
   ]
  },
  {
   "cell_type": "code",
   "execution_count": 198,
   "metadata": {},
   "outputs": [
    {
     "data": {
      "image/png": "[encoded data removed]",
      "text/plain": [
       "<Figure size 432x288 with 1 Axes>"
      ]
     },
     "metadata": {},
     "output_type": "display_data"
    },
    {
     "data": {
      "text/plain": [
       "<Figure size 432x288 with 0 Axes>"
      ]
     },
     "metadata": {},
     "output_type": "display_data"
    }
   ],
   "source": [
    "# Build Pie Chart\n",
    "#Fares_Percents.plot{kind=\"pie\"}\n",
    "Labels=[\"Rural\", \"Suburban\", \"Urban\"]\n",
    "Explode=[0, 0, 0.10]\n",
    "Colors=[\"gold\", \"skyblue\", \"lightcoral\"]\n",
    "plt.pie(Fare_Percents, labels=Labels, autopct=\"%.1f%%\", shadow=True, explode=Explode, colors=Colors, startangle=140)\n",
    "plt.title(\"% of Total Fares by City Type\")\n",
    "plt.show()\n",
    "\n",
    "# Save Figure\n",
    "plt.savefig(\"../Images/Fare_Percents_Pie.png\")"
   ]
  },
  {
   "cell_type": "markdown",
   "metadata": {},
   "source": [
    "## Total Rides by City Type"
   ]
  },
  {
   "cell_type": "code",
   "execution_count": 199,
   "metadata": {},
   "outputs": [
    {
     "data": {
      "text/plain": [
       "type\n",
       "Rural        5.3\n",
       "Suburban    26.3\n",
       "Urban       68.4\n",
       "Name: ride_id, dtype: float64"
      ]
     },
     "execution_count": 199,
     "metadata": {},
     "output_type": "execute_result"
    }
   ],
   "source": [
    "# Calculate Ride Percents - Total Rides = 2375\n",
    "#Calculate Total Number of Rides per City Type\n",
    "Rides_CityType = combined_pyber_df.groupby(['type']).ride_id.count()\n",
    "Rides_CityType\n",
    "Ride_Percents = round((Rides_CityType/Total_Rides)*100, 1)\n",
    "Ride_Percents"
   ]
  },
  {
   "cell_type": "code",
   "execution_count": 200,
   "metadata": {},
   "outputs": [
    {
     "data": {
      "image/png": "[encoded data removed]",
      "text/plain": [
       "<Figure size 432x288 with 1 Axes>"
      ]
     },
     "metadata": {},
     "output_type": "display_data"
    },
    {
     "data": {
      "text/plain": [
       "<Figure size 432x288 with 0 Axes>"
      ]
     },
     "metadata": {},
     "output_type": "display_data"
    }
   ],
   "source": [
    "# Build Pie Chart\n",
    "#Ride_Percents.plot{kind=\"pie\"}\n",
    "Labels=[\"Rural\", \"Suburban\", \"Urban\"]\n",
    "Explode=[0, 0, 0.10]\n",
    "Colors=[\"gold\", \"skyblue\", \"lightcoral\"]\n",
    "plt.pie(Ride_Percents, labels=Labels, autopct=\"%.1f%%\", shadow=True, explode=Explode, colors=Colors, startangle=140)\n",
    "plt.title(\"% of Total Rides by City Type\")\n",
    "plt.show()\n",
    "\n",
    "# Save Figure\n",
    "plt.savefig(\"../Images/Ride_Percents_Pie.png\")"
   ]
  },
  {
   "cell_type": "markdown",
   "metadata": {},
   "source": [
    "## Total Drivers by City Type"
   ]
  },
  {
   "cell_type": "code",
   "execution_count": 201,
   "metadata": {},
   "outputs": [
    {
     "data": {
      "text/plain": [
       "type\n",
       "Rural        2.6\n",
       "Suburban    16.5\n",
       "Urban       80.9\n",
       "Name: driver_count, dtype: float64"
      ]
     },
     "execution_count": 201,
     "metadata": {},
     "output_type": "execute_result"
    }
   ],
   "source": [
    "# Calculate Driver Percents\n",
    "\n",
    "#Calculate Total Number of Drivers per City Type = 2973\n",
    "Drivers_CityType = city_data.groupby(['type']).driver_count.sum()\n",
    "Drivers_CityType\n",
    "Driver_Percents = round((Drivers_CityType/Total_Drivers)*100, 1)\n",
    "Driver_Percents"
   ]
  },
  {
   "cell_type": "code",
   "execution_count": 202,
   "metadata": {},
   "outputs": [
    {
     "data": {
      "image/png": "[encoded data removed]",
      "text/plain": [
       "<Figure size 432x288 with 1 Axes>"
      ]
     },
     "metadata": {},
     "output_type": "display_data"
    },
    {
     "data": {
      "text/plain": [
       "<Figure size 432x288 with 0 Axes>"
      ]
     },
     "metadata": {},
     "output_type": "display_data"
    }
   ],
   "source": [
    "# Build Pie Chart\n",
    "#Driver_Percents.plot{kind=\"pie\"}\n",
    "Labels=[\"Rural\", \"Suburban\", \"Urban\"]\n",
    "Explode=[0, 0, 0.15]\n",
    "Colors=[\"gold\", \"skyblue\", \"lightcoral\"]\n",
    "plt.pie(Driver_Percents, labels=Labels, autopct=\"%.1f%%\", shadow=True, explode=Explode, colors=Colors, startangle=160)\n",
    "plt.title(\"% of Total Drivers by City Type\")\n",
    "plt.show()\n",
    "\n",
    "# Save Figure\n",
    "plt.savefig(\"../Images/Driver_Percents_Pie.png\")"
   ]
  },
  {
   "cell_type": "markdown",
   "metadata": {},
   "source": [
    "# Description of the three observable trends:\n",
    "Urban rides make up the greatest percentage of revenues at 62.7%, have the greatest demand for rides (68.4%) and have the greatest number of drivers (80.9%). This is followed by Suburban cities with 30.5% of revenues, 26.3% demand, and 16.5% of drivers.  Rural cities account for the least amount of revenues, demand, and drivers with 6.8%, 5.3%, and 2.6% respectively.\n",
    "\n",
    "Based on an analysis of the data: Urban cities have a higher demand for rides, and therefore requires more drivers. However, the average fare is under $30.00 per ride. This is most likely due to the shorter distances, the availability of drivers, and the likelyhood that urban dwellers tend to use alternative means of transportation more.\n",
    "\n",
    "Rural cities have the least demand, and least number of drivers, yet the average fare ranges from $20.00 to almost $50.00, most likely due to varying distances and fewer drivers available. Suburban cities, remain in the middle, with the greatest demand for rides between 10 and 30, and an average fare amount per ride between $25-$30.00, with the corresponding number of drivers available. \n",
    "\n",
    "In conclusion, the ratio of drivers to demand to revenue seems to be the most optimal for Surban communities where 16.5% of the drivers service 26% of the demand, generating about 31% of the revenue (percent of revenues are higher than percent of drivers). Compared to Urban communities where about 81% of the drivers service 68% of the demand, and generate 63% of the revenues (here the percent of revenues are less than percent of number of drivers). Therefore, Suburban drivers make the most money. "
   ]
  }
 ],
 "metadata": {
  "anaconda-cloud": {},
  "kernelspec": {
   "display_name": "Python 3",
   "language": "python",
   "name": "python3"
  },
  "language_info": {
   "codemirror_mode": {
    "name": "ipython",
    "version": 3
   },
   "file_extension": ".py",
   "mimetype": "text/x-python",
   "name": "python",
   "nbconvert_exporter": "python",
   "pygments_lexer": "ipython3",
   "version": "3.7.0"
  }
 },
 "nbformat": 4,
 "nbformat_minor": 2
}
